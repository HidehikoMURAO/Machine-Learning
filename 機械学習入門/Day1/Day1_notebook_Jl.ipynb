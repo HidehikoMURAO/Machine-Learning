{
 "cells": [
  {
   "cell_type": "markdown",
   "metadata": {},
   "source": [
    "# Day1 Julia 基礎文法①"
   ]
  },
  {
   "cell_type": "markdown",
   "metadata": {},
   "source": [
    "# 変数"
   ]
  },
  {
   "cell_type": "code",
   "execution_count": 1,
   "metadata": {},
   "outputs": [
    {
     "data": {
      "text/plain": [
       "10"
      ]
     },
     "execution_count": 1,
     "metadata": {},
     "output_type": "execute_result"
    }
   ],
   "source": [
    "x = 10 # xに10を代入"
   ]
  },
  {
   "cell_type": "code",
   "execution_count": 2,
   "metadata": {},
   "outputs": [
    {
     "name": "stdout",
     "output_type": "stream",
     "text": [
      "10"
     ]
    }
   ],
   "source": [
    "print(x) # xを出力"
   ]
  },
  {
   "cell_type": "code",
   "execution_count": 3,
   "metadata": {},
   "outputs": [
    {
     "data": {
      "text/plain": [
       "15"
      ]
     },
     "execution_count": 3,
     "metadata": {},
     "output_type": "execute_result"
    }
   ],
   "source": [
    "x + 5 # x=10に5を加算"
   ]
  },
  {
   "cell_type": "code",
   "execution_count": 4,
   "metadata": {},
   "outputs": [
    {
     "name": "stdout",
     "output_type": "stream",
     "text": [
      "20"
     ]
    }
   ],
   "source": [
    "y = x + 10 # yにx+5を代入\n",
    "print(y)"
   ]
  },
  {
   "cell_type": "code",
   "execution_count": 5,
   "metadata": {},
   "outputs": [
    {
     "name": "stdout",
     "output_type": "stream",
     "text": [
      "2"
     ]
    }
   ],
   "source": [
    "print(12 % 10) #12÷10の剰余"
   ]
  },
  {
   "cell_type": "code",
   "execution_count": 6,
   "metadata": {},
   "outputs": [
    {
     "name": "stdout",
     "output_type": "stream",
     "text": [
      "8"
     ]
    }
   ],
   "source": [
    "print(2 ^ 3) #2の3乗"
   ]
  },
  {
   "cell_type": "code",
   "execution_count": 7,
   "metadata": {},
   "outputs": [
    {
     "name": "stdout",
     "output_type": "stream",
     "text": [
      "108"
     ]
    }
   ],
   "source": [
    "x = 2 * ((3 + 4) ^ 2 + 5) # x=2×{(1+1)^2}の計算 \n",
    "print(x)"
   ]
  },
  {
   "cell_type": "markdown",
   "metadata": {},
   "source": [
    "## 変数 演習"
   ]
  },
  {
   "cell_type": "code",
   "execution_count": 8,
   "metadata": {},
   "outputs": [
    {
     "name": "stdout",
     "output_type": "stream",
     "text": [
      "20.0"
     ]
    }
   ],
   "source": [
    "# 問題１\n",
    "value1 = 1.5 # value１に1.5を代入\n",
    "value2 = 45  # value2に45を代入\n",
    "answer_value = value2 / (value1 * value1) # value2 ÷  (value1 × value1)を計算し、その計算結果をanswer_valueに代入している。\n",
    "print(answer_value) # answer_valueの中の値を出力"
   ]
  },
  {
   "cell_type": "markdown",
   "metadata": {},
   "source": [
    "# データの型"
   ]
  },
  {
   "cell_type": "markdown",
   "metadata": {},
   "source": [
    "1.0 ＋ \"12.2\"\n",
    "\n",
    "float型　と　String型 はデータ型が違うのでこの計算を実行するとエラーが出てしまう。"
   ]
  },
  {
   "cell_type": "code",
   "execution_count": 9,
   "metadata": {},
   "outputs": [
    {
     "ename": "MethodError",
     "evalue": "MethodError: no method matching String(::Float64)\nClosest candidates are:\n  String(!Matched::String) at boot.jl:318\n  String(!Matched::Array{UInt8,1}) at strings/string.jl:39\n  String(!Matched::Base.CodeUnits{UInt8,String}) at strings/string.jl:77\n  ...",
     "output_type": "error",
     "traceback": [
      "MethodError: no method matching String(::Float64)\nClosest candidates are:\n  String(!Matched::String) at boot.jl:318\n  String(!Matched::Array{UInt8,1}) at strings/string.jl:39\n  String(!Matched::Base.CodeUnits{UInt8,String}) at strings/string.jl:77\n  ...",
      "",
      "Stacktrace:",
      " [1] top-level scope at In[9]:1"
     ]
    }
   ],
   "source": [
    "# 1.0を文字列の型に変換\n",
    "String(1.0) + \"12.2\""
   ]
  },
  {
   "cell_type": "code",
   "execution_count": 10,
   "metadata": {},
   "outputs": [
    {
     "ename": "MethodError",
     "evalue": "MethodError: no method matching AbstractFloat(::String)\nClosest candidates are:\n  AbstractFloat(!Matched::Bool) at float.jl:252\n  AbstractFloat(!Matched::Int8) at float.jl:253\n  AbstractFloat(!Matched::Int16) at float.jl:254\n  ...",
     "output_type": "error",
     "traceback": [
      "MethodError: no method matching AbstractFloat(::String)\nClosest candidates are:\n  AbstractFloat(!Matched::Bool) at float.jl:252\n  AbstractFloat(!Matched::Int8) at float.jl:253\n  AbstractFloat(!Matched::Int16) at float.jl:254\n  ...",
      "",
      "Stacktrace:",
      " [1] float(::String) at ./float.jl:271",
      " [2] top-level scope at In[10]:1"
     ]
    }
   ],
   "source": [
    "# 12.2を小数の型に変換\n",
    "1.0 + float(\"12.2\")"
   ]
  },
  {
   "cell_type": "code",
   "execution_count": 11,
   "metadata": {},
   "outputs": [
    {
     "data": {
      "text/plain": [
       "Float64"
      ]
     },
     "execution_count": 11,
     "metadata": {},
     "output_type": "execute_result"
    }
   ],
   "source": [
    "typeof(12.2)"
   ]
  },
  {
   "cell_type": "code",
   "execution_count": 12,
   "metadata": {},
   "outputs": [
    {
     "name": "stdout",
     "output_type": "stream",
     "text": [
      "10\n",
      "5.0"
     ]
    }
   ],
   "source": [
    "x = 10   # xに10を代入\n",
    "y = x/2  # xを整数型である2で割ったあと計算結果をyに代入\n",
    "println(x) # xの値を出力　→　10が表示される. println は改行付き出力\n",
    "print(y)   # yの値を出力　→　5.0が出力される、float型であることに注意"
   ]
  },
  {
   "cell_type": "code",
   "execution_count": 13,
   "metadata": {},
   "outputs": [
    {
     "name": "stdout",
     "output_type": "stream",
     "text": [
      "Float64"
     ]
    }
   ],
   "source": [
    "print(typeof(y)) # type(x)で変数xのデータ型を調べることができる。"
   ]
  },
  {
   "cell_type": "code",
   "execution_count": 14,
   "metadata": {},
   "outputs": [],
   "source": [
    "# '10' + 5\n",
    "# char型の\"10\"と整数型の５は演算不可。シングルクオーテーションでかっこった数値はchar型とみなされる。"
   ]
  },
  {
   "cell_type": "markdown",
   "metadata": {},
   "source": [
    "## 配列（ベクトル）ミュータブル"
   ]
  },
  {
   "cell_type": "code",
   "execution_count": 15,
   "metadata": {},
   "outputs": [
    {
     "name": "stdout",
     "output_type": "stream",
     "text": [
      "[\"国語\", \"算数\", \"理科\", \"社会\"]"
     ]
    }
   ],
   "source": [
    "#1 作成\n",
    "subject_name = [\"国語\",\"算数\",\"理科\",\"社会\"] # 配列変数の宣言，Pythonではリストと呼ぶ\n",
    "print(subject_name) #配列変数を引数にして各要素全てを出力"
   ]
  },
  {
   "cell_type": "code",
   "execution_count": 16,
   "metadata": {},
   "outputs": [
    {
     "name": "stdout",
     "output_type": "stream",
     "text": [
      "Array{String,1}"
     ]
    }
   ],
   "source": [
    "print(typeof(subject_name)) # type()でsubject_nameの型を調べる．配列（リスト型）であるとわかる"
   ]
  },
  {
   "cell_type": "code",
   "execution_count": 17,
   "metadata": {},
   "outputs": [
    {
     "name": "stdout",
     "output_type": "stream",
     "text": [
      "国語"
     ]
    }
   ],
   "source": [
    "#2 参照\n",
    "print(subject_name[1]) # 1番目の要素（国語）を表示．Pythonでは要素番号は0からだが，Juliaでは1から始まる．"
   ]
  },
  {
   "cell_type": "code",
   "execution_count": 18,
   "metadata": {},
   "outputs": [
    {
     "name": "stdout",
     "output_type": "stream",
     "text": [
      "[\"国語\", \"算数\"]"
     ]
    }
   ],
   "source": [
    "print(subject_name[1:2]) # 1番目と二番目の要素（国語，算数）を表示"
   ]
  },
  {
   "cell_type": "code",
   "execution_count": 19,
   "metadata": {},
   "outputs": [
    {
     "name": "stdout",
     "output_type": "stream",
     "text": [
      "[\"国語\", \"算数\", \"理科\", \"社会\", \"追加\"]"
     ]
    }
   ],
   "source": [
    "#3 末尾に要素を追加\n",
    "push!(subject_name, \"追加\") # Pythonでは subject_name.append(\"追加\")\n",
    "print(subject_name) # subject_nameの要素を表示"
   ]
  },
  {
   "cell_type": "code",
   "execution_count": 20,
   "metadata": {},
   "outputs": [
    {
     "name": "stdout",
     "output_type": "stream",
     "text": [
      "[\"国語\", \"算数\", \"理科\", \"社会\", \"追加\", \"追加A\", \"追加B\"]"
     ]
    }
   ],
   "source": [
    "push!(subject_name, \"追加A\", \"追加B\") # Pythonではsubject_name.extend([\"追加A\", \"追加B\"])\n",
    "print(subject_name) # subject_nameの要素を表示"
   ]
  },
  {
   "cell_type": "code",
   "execution_count": 21,
   "metadata": {},
   "outputs": [
    {
     "name": "stdout",
     "output_type": "stream",
     "text": [
      "[\"国語\", \"算数\", \"割り込み\", \"社会\", \"追加\", \"追加A\", \"追加B\"]"
     ]
    }
   ],
   "source": [
    "#3 途中に追加\n",
    "subject_name[3] = \"割り込み\" # Pythonではsubject_name.insert(2, \"割り込み\")\n",
    "print(subject_name)"
   ]
  },
  {
   "cell_type": "code",
   "execution_count": 22,
   "metadata": {},
   "outputs": [
    {
     "name": "stdout",
     "output_type": "stream",
     "text": [
      "[\"国語\", \"算数\", \"社会\", \"追加\", \"追加A\", \"追加B\"]"
     ]
    }
   ],
   "source": [
    "#4 削除\n",
    "deleteat!(subject_name, 3)  # 特定の場所の要素を削除\n",
    "print(subject_name) #subject_nameの要素を表示"
   ]
  },
  {
   "cell_type": "markdown",
   "metadata": {},
   "source": [
    "`pop!`(subject_name)   # 配列の末尾（右端）の要素を削除\n",
    "\n",
    "`shift!`(subject_name) # 配列の先頭（左端）の要素を削除"
   ]
  },
  {
   "cell_type": "markdown",
   "metadata": {},
   "source": [
    "## 辞書（ミュータブル）"
   ]
  },
  {
   "cell_type": "code",
   "execution_count": 23,
   "metadata": {},
   "outputs": [
    {
     "name": "stdout",
     "output_type": "stream",
     "text": [
      "Dict(\"理科\"=>100,\"国語\"=>70,\"数学\"=>80)"
     ]
    }
   ],
   "source": [
    "#1 作成\n",
    "subject_dict = Dict(\"国語\" => 70, \"数学\" => 80, \"理科\" => 100)\n",
    "print(subject_dict) #subject_dictのキーとその値を出力"
   ]
  },
  {
   "cell_type": "markdown",
   "metadata": {},
   "source": [
    "Pytonでは辞書は{}で囲む．中身は{キー:値, キー:値, ...}とする．\n",
    "\n",
    "subject_dict = {\"国語\":70, \"数学\":80, \"理科\":100} "
   ]
  },
  {
   "cell_type": "code",
   "execution_count": 24,
   "metadata": {},
   "outputs": [
    {
     "name": "stdout",
     "output_type": "stream",
     "text": [
      "80"
     ]
    }
   ],
   "source": [
    "#2 参照\n",
    "print(subject_dict[\"数学\"]) # キーに\"数学\"を選美，そのキーの値である80を出力する"
   ]
  },
  {
   "cell_type": "code",
   "execution_count": 25,
   "metadata": {},
   "outputs": [
    {
     "name": "stdout",
     "output_type": "stream",
     "text": [
      "Dict(\"理科\"=>100,\"国語\"=>70,\"数学\"=>80,\"英語\"=>90)"
     ]
    }
   ],
   "source": [
    "#3 追加\n",
    "subject_dict[\"英語\"] = 90 # Pythonと同じ\n",
    "print(subject_dict) #subject_dictのキーとその値を出力"
   ]
  },
  {
   "cell_type": "code",
   "execution_count": 26,
   "metadata": {},
   "outputs": [
    {
     "name": "stdout",
     "output_type": "stream",
     "text": [
      "Dict(\"理科\"=>100,\"国語\"=>70,\"英語\"=>90)"
     ]
    }
   ],
   "source": [
    "#4 削除\n",
    "delete!(subject_dict, \"数学\") #キーが数学でその値である80をセットで削除する \n",
    "print(subject_dict) #subject_dictのキーとその値を出力"
   ]
  },
  {
   "cell_type": "markdown",
   "metadata": {},
   "source": [
    "Pythonでは subject_dict`.delete`(\"数学\") "
   ]
  },
  {
   "cell_type": "code",
   "execution_count": 27,
   "metadata": {},
   "outputs": [
    {
     "name": "stdout",
     "output_type": "stream",
     "text": [
      "Dict(\"理科\"=>0,\"国語\"=>70,\"英語\"=>90)"
     ]
    }
   ],
   "source": [
    "#5 変更\n",
    "subject_dict[\"理科\"] =  0 # 理科というキーに対応するバリューを０に変更する．Pythonと同じ．\n",
    "print(subject_dict) #subject_dictのキーとその値を出力"
   ]
  },
  {
   "cell_type": "markdown",
   "metadata": {},
   "source": [
    "## ペア（イミュータブル）"
   ]
  },
  {
   "cell_type": "code",
   "execution_count": 28,
   "metadata": {},
   "outputs": [
    {
     "data": {
      "text/plain": [
       "(\"国語\" => 70, \"数学\" => 80, \"理科\" => 100)"
      ]
     },
     "execution_count": 28,
     "metadata": {},
     "output_type": "execute_result"
    }
   ],
   "source": [
    "subject_pair = (\"国語\" => 70, \"数学\" => 80, \"理科\" => 100)"
   ]
  },
  {
   "cell_type": "code",
   "execution_count": 29,
   "metadata": {},
   "outputs": [
    {
     "ename": "MethodError",
     "evalue": "MethodError: no method matching setindex!(::Tuple{Pair{String,Int64},Pair{String,Int64},Pair{String,Int64}}, ::Int64, ::String)",
     "output_type": "error",
     "traceback": [
      "MethodError: no method matching setindex!(::Tuple{Pair{String,Int64},Pair{String,Int64},Pair{String,Int64}}, ::Int64, ::String)",
      "",
      "Stacktrace:",
      " [1] top-level scope at In[29]:1"
     ]
    }
   ],
   "source": [
    "subject_pair[\"英語\"] = 90 # ペアはイミュータブルなのでエラーとなる．"
   ]
  },
  {
   "cell_type": "markdown",
   "metadata": {},
   "source": [
    "## タプル"
   ]
  },
  {
   "cell_type": "code",
   "execution_count": 30,
   "metadata": {},
   "outputs": [
    {
     "name": "stdout",
     "output_type": "stream",
     "text": [
      "(10, 20, \"Hello\")"
     ]
    }
   ],
   "source": [
    "#1 作成と参照\n",
    "sample_tuple = (10,20,\"Hello\") \n",
    "#タプルは()で要素を囲む.　タプルの要素には順番にはインデックスが割り振られている。要素のデータ型は混合で良い.\n",
    "print(sample_tuple) #sample_tupleの要素を出力"
   ]
  },
  {
   "cell_type": "code",
   "execution_count": 31,
   "metadata": {},
   "outputs": [
    {
     "name": "stdout",
     "output_type": "stream",
     "text": [
      "10"
     ]
    }
   ],
   "source": [
    "print(sample_tuple[1]) #sample_tupleの 1番目の要素を出力 → 10"
   ]
  },
  {
   "cell_type": "markdown",
   "metadata": {},
   "source": [
    "## セット"
   ]
  },
  {
   "cell_type": "code",
   "execution_count": 32,
   "metadata": {},
   "outputs": [],
   "source": [
    "# sample_set = {10,100,\"hello\"} #集合型. {}で囲む. 重リストと違って複の要素がないことと、順番がないことに注意\n",
    "# print(sample_set) #集合型変数sample_setの要素を出力"
   ]
  },
  {
   "cell_type": "markdown",
   "metadata": {},
   "source": [
    "## データの型 演習"
   ]
  },
  {
   "cell_type": "code",
   "execution_count": 33,
   "metadata": {},
   "outputs": [
    {
     "name": "stdout",
     "output_type": "stream",
     "text": [
      "satoさんのBMIは20.0です。"
     ]
    }
   ],
   "source": [
    "# 問題１\n",
    "sato_dict = Dict(\"height\" => 1.5, \"weight\" => 45)\n",
    "BMI_value = sato_dict[\"weight\"] / (sato_dict[\"height\"] * sato_dict[\"height\"]) \n",
    "# 辞書型の値の参照は  辞書型変数名[呼び出す値のキー] \n",
    "print(\"satoさんのBMIは\",string(BMI_value), \"です。\") "
   ]
  },
  {
   "cell_type": "code",
   "execution_count": 34,
   "metadata": {},
   "outputs": [
    {
     "name": "stdout",
     "output_type": "stream",
     "text": [
      "Float64\n",
      "String\n",
      "Array{Float64,1}\n",
      "Dict{String,Float64}\n",
      "Pair{String,Float64}\n"
     ]
    }
   ],
   "source": [
    "# 問題２\n",
    "x1 =  3.14 \n",
    "x2 = \"3.14\" \n",
    "x3 = [3.14] \n",
    "x4 = Dict(\"pi\" => 3.14)\n",
    "x5 = (\"e\" => 2.71)\n",
    "println(typeof(x1)) \n",
    "println(typeof(x2)) \n",
    "println(typeof(x3)) \n",
    "println(typeof(x4))\n",
    "println(typeof(x5))"
   ]
  },
  {
   "cell_type": "code",
   "execution_count": null,
   "metadata": {},
   "outputs": [],
   "source": []
  }
 ],
 "metadata": {
  "@webio": {
   "lastCommId": null,
   "lastKernelId": null
  },
  "kernelspec": {
   "display_name": "Julia 1.1.0",
   "language": "julia",
   "name": "julia-1.1"
  },
  "language_info": {
   "file_extension": ".jl",
   "mimetype": "application/julia",
   "name": "julia",
   "version": "1.1.0"
  }
 },
 "nbformat": 4,
 "nbformat_minor": 2
}
